{
  "nbformat": 4,
  "nbformat_minor": 0,
  "metadata": {
    "colab": {
      "provenance": [],
      "authorship_tag": "ABX9TyPR4xdF52jFhyusS213KLEa",
      "include_colab_link": true
    },
    "kernelspec": {
      "name": "python3",
      "display_name": "Python 3"
    },
    "language_info": {
      "name": "python"
    }
  },
  "cells": [
    {
      "cell_type": "markdown",
      "metadata": {
        "id": "view-in-github",
        "colab_type": "text"
      },
      "source": [
        "<a href=\"https://colab.research.google.com/github/fatday/TradingGame_P3/blob/main/Round1/Manual.ipynb\" target=\"_parent\"><img src=\"https://colab.research.google.com/assets/colab-badge.svg\" alt=\"Open In Colab\"/></a>"
      ]
    },
    {
      "cell_type": "code",
      "execution_count": 153,
      "metadata": {
        "id": "WDSC-sTpqtns"
      },
      "outputs": [],
      "source": [
        "FX = {\"Snowballs\" : {\"Snowballs\": 1.0, \"Pizza\": 1.45, \"Nuggets\": 0.52, \"SeaShells\": 0.72},\n",
        "      \"Pizza\": {\"Snowballs\": 0.7, \"Pizza\": 1.0, \"Nuggets\": 0.31, \"SeaShells\": 0.48},\n",
        "      \"Nuggets\": {\"Snowballs\": 1.95, \"Pizza\": 3.1, \"Nuggets\": 1.0, \"SeaShells\": 1.49},\n",
        "      \"SeaShells\": {\"Snowballs\": 1.34, \"Pizza\": 1.98, \"Nuggets\": 0.64, \"SeaShells\": 1.0}}"
      ]
    },
    {
      "cell_type": "code",
      "source": [
        "FX_combinations = []\n",
        "upper_bound_swap = 6\n",
        "\n",
        "swap_sequence = [\"SeaShells\"]\n",
        "current_value = 1.0"
      ],
      "metadata": {
        "id": "UAkHEtcGrzuV"
      },
      "execution_count": 165,
      "outputs": []
    },
    {
      "cell_type": "code",
      "source": [
        "def search_fx(swap_sequence, current_value, current_fx):\n",
        "  if len(swap_sequence) == upper_bound_swap - 1:\n",
        "    record = swap_sequence[:] + [\"SeaShells\"]\n",
        "    fx_val = current_value * FX[current_fx][\"SeaShells\"]\n",
        "    FX_combinations.append((record, fx_val))\n",
        "    return\n",
        "  else:\n",
        "    for item in FX[current_fx]:\n",
        "      swap_sequence.append(item)\n",
        "      search_fx(swap_sequence, current_value * FX[current_fx][item], item)\n",
        "      swap_sequence.pop()"
      ],
      "metadata": {
        "id": "gSTz_EtjsZqJ"
      },
      "execution_count": 166,
      "outputs": []
    },
    {
      "cell_type": "code",
      "source": [
        "search_fx(swap_sequence, current_value, \"SeaShells\")"
      ],
      "metadata": {
        "id": "Sbhqol1Ds1Fe"
      },
      "execution_count": 167,
      "outputs": []
    },
    {
      "cell_type": "code",
      "source": [
        "FX_combinations.sort(key=lambda x: -x[1])"
      ],
      "metadata": {
        "id": "7NJgwfL6thsp"
      },
      "execution_count": 168,
      "outputs": []
    },
    {
      "cell_type": "markdown",
      "source": [
        "# Top 10"
      ],
      "metadata": {
        "id": "x1CARUYr54xW"
      }
    },
    {
      "cell_type": "code",
      "source": [
        "for i in range(10):\n",
        "  print(f\"Swap Sequence = {FX_combinations[i][0]}\", f\"FX Return = {FX_combinations[i][1]}\\n\")"
      ],
      "metadata": {
        "id": "mVbT6TlK5G4Q",
        "outputId": "5e012ea6-6938-4f7d-d145-dac549dbf78a",
        "colab": {
          "base_uri": "https://localhost:8080/"
        }
      },
      "execution_count": 175,
      "outputs": [
        {
          "output_type": "stream",
          "name": "stdout",
          "text": [
            "Swap Sequence = ['SeaShells', 'Snowballs', 'Nuggets', 'Pizza', 'Snowballs', 'SeaShells'] FX Return = 1.08868032\n",
            "\n",
            "Swap Sequence = ['SeaShells', 'Nuggets', 'Pizza', 'Snowballs', 'Nuggets', 'SeaShells'] FX Return = 1.07604224\n",
            "\n",
            "Swap Sequence = ['SeaShells', 'Pizza', 'Snowballs', 'Snowballs', 'Nuggets', 'SeaShells'] FX Return = 1.0738728\n",
            "\n",
            "Swap Sequence = ['SeaShells', 'Pizza', 'Snowballs', 'Nuggets', 'Nuggets', 'SeaShells'] FX Return = 1.0738728\n",
            "\n",
            "Swap Sequence = ['SeaShells', 'Pizza', 'Snowballs', 'Nuggets', 'SeaShells', 'SeaShells'] FX Return = 1.0738728\n",
            "\n",
            "Swap Sequence = ['SeaShells', 'Pizza', 'Pizza', 'Snowballs', 'Nuggets', 'SeaShells'] FX Return = 1.0738728\n",
            "\n",
            "Swap Sequence = ['SeaShells', 'SeaShells', 'Pizza', 'Snowballs', 'Nuggets', 'SeaShells'] FX Return = 1.0738728\n",
            "\n",
            "Swap Sequence = ['SeaShells', 'Pizza', 'Snowballs', 'Nuggets', 'Pizza', 'SeaShells'] FX Return = 1.07243136\n",
            "\n",
            "Swap Sequence = ['SeaShells', 'Snowballs', 'Pizza', 'Snowballs', 'Nuggets', 'SeaShells'] FX Return = 1.05380548\n",
            "\n",
            "Swap Sequence = ['SeaShells', 'Snowballs', 'Nuggets', 'Snowballs', 'Nuggets', 'SeaShells'] FX Return = 1.0527672480000003\n",
            "\n"
          ]
        }
      ]
    },
    {
      "cell_type": "code",
      "source": [],
      "metadata": {
        "id": "6g0_56lXzLhw"
      },
      "execution_count": null,
      "outputs": []
    }
  ]
}